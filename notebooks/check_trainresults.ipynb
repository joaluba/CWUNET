{
 "cells": [
  {
   "cell_type": "code",
   "execution_count": 3,
   "metadata": {},
   "outputs": [],
   "source": [
    "################## IMPORT LIBRARIES ##################\n",
    "\n",
    "import numpy as np\n",
    "import sys\n",
    "import importlib\n",
    "import random \n",
    "import matplotlib.pyplot as plt\n",
    "plt.rcParams[\"figure.figsize\"] = (4, 3)\n",
    "import torch "
   ]
  },
  {
   "cell_type": "code",
   "execution_count": 4,
   "metadata": {},
   "outputs": [
    {
     "data": {
      "text/plain": [
       "<module 'models' from '/home/ubuntu/guestxr2/home/ubuntu/joanna/CWUNET/notebooks/../src/models.py'>"
      ]
     },
     "execution_count": 4,
     "metadata": {},
     "output_type": "execute_result"
    }
   ],
   "source": [
    "################## IMPORT MY MODULES ##################\n",
    "sys.path.append('../src')\n",
    "\n",
    "import helpers as hlp\n",
    "import evaluation\n",
    "import dataset as ds\n",
    "import trainer\n",
    "import models\n",
    "\n",
    "importlib.reload(evaluation)\n",
    "importlib.reload(hlp)\n",
    "importlib.reload(ds)\n",
    "importlib.reload(trainer)\n",
    "importlib.reload(models)"
   ]
  },
  {
   "cell_type": "code",
   "execution_count": 5,
   "metadata": {},
   "outputs": [],
   "source": [
    "################## LOAD TRAINING RESULTS AND CONFIG  ##################\n",
    "\n",
    "datapath=\"/home/ubuntu/guestxr2/home/ubuntu/joanna/CWUNET/results/\"\n",
    "exp_tag=\"\"\n",
    "train_tag=\"big_1\"\n",
    "\n",
    "# load the best checkpoint from the training\n",
    "config ,train_results = trainer.load_train_results(datapath, exp_tag, train_tag,configtype=\"yaml\") "
   ]
  },
  {
   "cell_type": "code",
   "execution_count": 6,
   "metadata": {},
   "outputs": [],
   "source": [
    "################## LOAD DATASET ##################\n",
    "\n",
    "# instantiate a test data set \n",
    "config[\"df_metadata\"]=\"/home/ubuntu/guestxr2/home/ubuntu/joanna/CWUNET/dataset-metadata/ds1_metadata_big.csv\"\n",
    "config[\"split\"]=\"test\"\n",
    "config[\"p_noise\"]=0\n",
    "dataset=ds.DatasetReverbTransfer(config)"
   ]
  },
  {
   "cell_type": "code",
   "execution_count": 7,
   "metadata": {},
   "outputs": [
    {
     "data": {
      "text/plain": [
       "<All keys matched successfully>"
      ]
     },
     "execution_count": 7,
     "metadata": {},
     "output_type": "execute_result"
    }
   ],
   "source": [
    "################## LOAD MODELS AND TRAINING WEIGHTS  ##################\n",
    "\n",
    "model=trainer.load_chosen_model(config,config[\"modeltype\"])\n",
    "model.load_state_dict(train_results[\"model_state_dict\"])\n"
   ]
  },
  {
   "cell_type": "code",
   "execution_count": 8,
   "metadata": {},
   "outputs": [
    {
     "data": {
      "image/png": "[encoded data removed]",
      "text/plain": [
       "<Figure size 400x300 with 1 Axes>"
      ]
     },
     "metadata": {},
     "output_type": "display_data"
    }
   ],
   "source": [
    "################## PLOT TRAINING LOSS EVOLUTION  ##################\n",
    "\n",
    "# load and plot the loss evolution \n",
    "loss = list(zip(*train_results['loss']))\n",
    "plt.figure()\n",
    "plt.plot(loss[0],label=\"train loss\")\n",
    "plt.plot(loss[1],label=\"val loss\")\n",
    "plt.xlabel(\"epoch number\")\n",
    "plt.legend()\n",
    "plt.show()"
   ]
  },
  {
   "cell_type": "code",
   "execution_count": 9,
   "metadata": {},
   "outputs": [
    {
     "data": {
      "text/plain": [
       "28"
      ]
     },
     "execution_count": 9,
     "metadata": {},
     "output_type": "execute_result"
    }
   ],
   "source": [
    "################## SEARCH FOR DATA POINTS FROM TEST SET WITH SPECIFIC RT60 VALUES   ##################\n",
    "\n",
    "# choose indices from a data set with specified difference\n",
    "chosen_rt60_idx_list=dataset.get_idx_with_rt60diff(-2,-0.85)\n",
    "# chosen_rt60_idx_list=dataset.get_idx_with_rt60diff(0.8,2)\n",
    "len(chosen_rt60_idx_list)"
   ]
  },
  {
   "cell_type": "code",
   "execution_count": 11,
   "metadata": {},
   "outputs": [],
   "source": [
    "################## INFERENCE FOR ONE DATA SAMPLE  ##################\n",
    "\n",
    "dp=chosen_rt60_idx_list[random.randint(0, len(chosen_rt60_idx_list) - 1)]\n",
    "sContent,sStyle,sTarget,sPrediction=trainer.infer(model,dataset[dp],config[\"device\"])"
   ]
  },
  {
   "cell_type": "code",
   "execution_count": null,
   "metadata": {},
   "outputs": [],
   "source": [
    "################## PLOT AND PLAY BACK CONTENT, STYLE, TARGET AND PREDICTION ##################\n",
    "\n",
    "audios=[sContent, sStyle, sTarget, sPrediction]\n",
    "names=[\"sContent\", \"sStyle\", \"sTarget\", \"sPrediction\"]\n",
    "\n",
    "plt.figure()\n",
    "for i,audio in enumerate(audios):\n",
    "    print(names[i]+\":\")\n",
    "    plt.subplot(4,1,i+1) \n",
    "    audio=audio.squeeze(0).cpu()\n",
    "    if i==3:\n",
    "        audio=audio.squeeze(0)\n",
    "    # wavfile.write(\"sounds/dp_\"+str(dp)+\"_\"+names[i]+\".wav\", int(48e3), audio.numpy())\n",
    "    plt.plot(audio)\n",
    "    plt.show()\n",
    "    display(Audio(audio,rate=48e3))\n",
    "    plt.figure(figsize=(2,2))\n",
    "    hlp.plotspectrogram(audio[:49152].unsqueeze(0).numpy(), 48e3, 1024, 512, \"gnuplot2\",names[i])\n",
    "    plt.show()"
   ]
  }
 ],
 "metadata": {
  "kernelspec": {
   "display_name": ".venv",
   "language": "python",
   "name": "python3"
  },
  "language_info": {
   "codemirror_mode": {
    "name": "ipython",
    "version": 3
   },
   "file_extension": ".py",
   "mimetype": "text/x-python",
   "name": "python",
   "nbconvert_exporter": "python",
   "pygments_lexer": "ipython3",
   "version": "3.10.17"
  },
  "orig_nbformat": 4
 },
 "nbformat": 4,
 "nbformat_minor": 2
}
